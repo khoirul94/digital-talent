{
 "cells": [
  {
   "cell_type": "markdown",
   "metadata": {},
   "source": [
    "# LATIHAN 2 - Tugas List Nilai\n",
    "\n",
    "Diberikan sekumpulan Nilai Random antara 0 sampai dengan 100 sebanyak 250 nilai. Buatlah program untuk melakukan hal berikut:\n",
    "1. Tampilkan Angka Ganjil dari ke 250 nilai tersebut\n",
    "2. Tampilkan berapa banyak yang mendapatkan nilai lebih dari 70\n",
    "3. Tampilkan standar deviasi dari sekumpulan nilai tersebut\n",
    "4. Tampilkan nilai maksimum dan minimum\n",
    "5. Tampilkan modus dari sekumpulan nilai tersebut"
   ]
  },
  {
   "cell_type": "code",
   "execution_count": 2,
   "metadata": {},
   "outputs": [
    {
     "name": "stdout",
     "output_type": "stream",
     "text": [
      "[70, 39, 60, 21, 43, 48, 54, 36, 26, 44, 9, 19, 68, 41, 82, 70, 18, 2, 65, 55, 30, 46, 82, 64, 74, 75, 77, 21, 3, 8, 30, 94, 36, 15, 72, 85, 27, 45, 81, 94, 97, 5, 46, 82, 9, 18, 14, 3, 54, 21, 39, 53, 21, 14, 29, 58, 79, 93, 30, 36, 93, 48, 83, 74, 53, 36, 87, 18, 16, 19, 44, 24, 31, 39, 11, 98, 1, 80, 49, 13, 47, 57, 81, 12, 44, 30, 30, 12, 37, 34, 80, 11, 31, 70, 92, 25, 19, 37, 59, 89, 58, 17, 10, 79, 79, 24, 89, 18, 87, 89, 55, 48, 59, 85, 41, 2, 92, 72, 56, 79, 42, 83, 40, 5, 26, 34, 52, 31, 82, 79, 95, 76, 78, 65, 87, 55, 5, 16, 61, 7, 84, 8, 35, 43, 67, 24, 38, 85, 10, 71, 78, 54, 91, 28, 29, 21, 47, 93, 28, 87, 86, 6, 85, 40, 57, 73, 1, 7, 22, 71, 78, 99, 57, 11, 70, 8, 18, 29, 39, 14, 71, 85, 76, 56, 38, 38, 55, 73, 7, 79, 29, 18, 39, 53, 21, 57, 68, 46, 93, 10, 44, 16, 95, 91, 83, 58, 62, 20, 68, 42, 63, 82, 83, 15, 11, 15, 22, 49, 74, 78, 87, 10, 25, 79, 81, 54, 56, 53, 21, 27, 12, 34, 22, 95, 77, 20, 31, 34, 28, 21, 5, 19, 78, 31, 32, 33, 83, 78, 4, 91]\n"
     ]
    }
   ],
   "source": [
    "# GENERATE RANDOM\n",
    "import random\n",
    "\n",
    "nilaiTugas = []\n",
    "for i in range(250):\n",
    "    nilaiTugas.append(random.randrange(1,100,1))\n",
    "\n",
    "print(nilaiTugas)"
   ]
  },
  {
   "cell_type": "code",
   "execution_count": 7,
   "metadata": {},
   "outputs": [
    {
     "name": "stdout",
     "output_type": "stream",
     "text": [
      "[39, 21, 43, 9, 19, 41, 65, 55, 75, 77, 21, 3, 15, 85, 27, 45, 81, 97, 5, 9, 3, 21, 39, 53, 21, 29, 79, 93, 93, 83, 53, 87, 19, 31, 39, 11, 1, 49, 13, 47, 57, 81, 37, 11, 31, 25, 19, 37, 59, 89, 17, 79, 79, 89, 87, 89, 55, 59, 85, 41, 79, 83, 5, 31, 79, 95, 65, 87, 55, 5, 61, 7, 35, 43, 67, 85, 71, 91, 29, 21, 47, 93, 87, 85, 57, 73, 1, 7, 71, 99, 57, 11, 29, 39, 71, 85, 55, 73, 7, 79, 29, 39, 53, 21, 57, 93, 95, 91, 83, 63, 83, 15, 11, 15, 49, 87, 25, 79, 81, 53, 21, 27, 95, 77, 31, 21, 5, 19, 31, 33, 83, 91]\n"
     ]
    }
   ],
   "source": [
    "# ganjil\n",
    "ganjil = []\n",
    "for nilai in nilaiTugas:\n",
    "    if nilai%2==1:\n",
    "        ganjil.append(nilai)\n",
    "print(ganjil)  "
   ]
  },
  {
   "cell_type": "code",
   "execution_count": 19,
   "metadata": {},
   "outputs": [
    {
     "name": "stdout",
     "output_type": "stream",
     "text": [
      "[82, 82, 74, 75, 77, 94, 72, 85, 81, 94, 97, 82, 79, 93, 93, 83, 74, 87, 98, 80, 81, 80, 92, 89, 79, 79, 89, 87, 89, 85, 92, 72, 79, 83, 82, 79, 95, 76, 78, 87, 84, 85, 71, 78, 91, 93, 87, 86, 85, 73, 71, 78, 99, 71, 85, 76, 73, 79, 93, 95, 91, 83, 82, 83, 74, 78, 87, 79, 81, 95, 77, 78, 83, 78, 91]\n",
      "\n",
      "Banyak elemen nilai yang lulus > 70 adalah 75 elemen\n"
     ]
    }
   ],
   "source": [
    "# nilai > 70\n",
    "nilaiLulus = []\n",
    "pasinggrade = 70\n",
    "for nilai in nilaiTugas:\n",
    "    if nilai>pasinggrade:\n",
    "        nilaiLulus.append(nilai)\n",
    "print(nilaiLulus)\n",
    "print(\"\\nBanyak elemen nilai yang lulus > 70 adalah \" +str(len(nilaiLulus))+ \" elemen\")"
   ]
  },
  {
   "cell_type": "code",
   "execution_count": 22,
   "metadata": {},
   "outputs": [
    {
     "name": "stdout",
     "output_type": "stream",
     "text": [
      "Rata-rata : 47.992\n",
      "Standar Deviasi : 28.325417084520538\n"
     ]
    }
   ],
   "source": [
    "# standar deviasi\n",
    "\n",
    "jumlah = total = 0\n",
    "#hitung rata-rata\n",
    "for i in nilaiTugas:\n",
    "    jumlah = jumlah+i\n",
    "rerata = jumlah/len(nilaiTugas)\n",
    "\n",
    "#hitung standar deviasi\n",
    "for a in nilaiTugas:\n",
    "    total = total + ((a-rerata)**2)\n",
    "standarDeviasi = (total/(len(nilaiTugas)-1))**(0.5)\n",
    "\n",
    "print(\"Rata-rata :\", rerata)\n",
    "print(\"Standar Deviasi :\", standarDeviasi)"
   ]
  },
  {
   "cell_type": "code",
   "execution_count": 29,
   "metadata": {},
   "outputs": [
    {
     "name": "stdout",
     "output_type": "stream",
     "text": [
      "Nilai Maksimum : 99\n",
      "Nilai Minimum : 1\n"
     ]
    }
   ],
   "source": [
    "# nilai maksimum\n",
    "\n",
    "nilaiMaksimum = nilaiTugas[0]\n",
    "nilaiMinimum = nilaiTugas[0]\n",
    "\n",
    "for nilai in nilaiTugas:\n",
    "    if nilai>nilaiMaksimum:\n",
    "        nilaiMaksimum = nilai\n",
    "\n",
    "for nilai in nilaiTugas:\n",
    "    if nilai<nilaiMinimum:\n",
    "        nilaiMinimum = nilai\n",
    "\n",
    "print (\"Nilai Maksimum :\", nilaiMaksimum)\n",
    "print (\"Nilai Minimum :\", nilaiMinimum)"
   ]
  },
  {
   "cell_type": "code",
   "execution_count": 26,
   "metadata": {},
   "outputs": [
    {
     "name": "stdout",
     "output_type": "stream",
     "text": [
      "nilai 70 muncul 4 kali\n",
      "nilai 39 muncul 5 kali\n",
      "nilai 60 muncul 1 kali\n",
      "nilai 21 muncul 8 kali\n",
      "nilai 43 muncul 2 kali\n",
      "nilai 48 muncul 3 kali\n",
      "nilai 54 muncul 4 kali\n",
      "nilai 36 muncul 4 kali\n",
      "nilai 26 muncul 2 kali\n",
      "nilai 44 muncul 4 kali\n",
      "nilai 9 muncul 2 kali\n",
      "nilai 19 muncul 4 kali\n",
      "nilai 68 muncul 3 kali\n",
      "nilai 41 muncul 2 kali\n",
      "nilai 82 muncul 5 kali\n",
      "nilai 18 muncul 6 kali\n",
      "nilai 2 muncul 2 kali\n",
      "nilai 65 muncul 2 kali\n",
      "nilai 55 muncul 4 kali\n",
      "nilai 30 muncul 5 kali\n",
      "nilai 46 muncul 3 kali\n",
      "nilai 64 muncul 1 kali\n",
      "nilai 74 muncul 3 kali\n",
      "nilai 75 muncul 1 kali\n",
      "nilai 77 muncul 2 kali\n",
      "nilai 3 muncul 2 kali\n",
      "nilai 8 muncul 3 kali\n",
      "nilai 94 muncul 2 kali\n",
      "nilai 15 muncul 3 kali\n",
      "nilai 72 muncul 2 kali\n",
      "nilai 85 muncul 5 kali\n",
      "nilai 27 muncul 2 kali\n",
      "nilai 45 muncul 1 kali\n",
      "nilai 81 muncul 3 kali\n",
      "nilai 97 muncul 1 kali\n",
      "nilai 5 muncul 4 kali\n",
      "nilai 14 muncul 3 kali\n",
      "nilai 53 muncul 4 kali\n",
      "nilai 29 muncul 4 kali\n",
      "nilai 58 muncul 3 kali\n",
      "nilai 79 muncul 7 kali\n",
      "nilai 93 muncul 4 kali\n",
      "nilai 83 muncul 5 kali\n",
      "nilai 87 muncul 5 kali\n",
      "nilai 16 muncul 3 kali\n",
      "nilai 24 muncul 3 kali\n",
      "nilai 31 muncul 5 kali\n",
      "nilai 11 muncul 4 kali\n",
      "nilai 98 muncul 1 kali\n",
      "nilai 1 muncul 2 kali\n",
      "nilai 80 muncul 2 kali\n",
      "nilai 49 muncul 2 kali\n",
      "nilai 13 muncul 1 kali\n",
      "nilai 47 muncul 2 kali\n",
      "nilai 57 muncul 4 kali\n",
      "nilai 12 muncul 3 kali\n",
      "nilai 37 muncul 2 kali\n",
      "nilai 34 muncul 4 kali\n",
      "nilai 92 muncul 2 kali\n",
      "nilai 25 muncul 2 kali\n",
      "nilai 59 muncul 2 kali\n",
      "nilai 89 muncul 3 kali\n",
      "nilai 17 muncul 1 kali\n",
      "nilai 10 muncul 4 kali\n",
      "nilai 56 muncul 3 kali\n",
      "nilai 42 muncul 2 kali\n",
      "nilai 40 muncul 2 kali\n",
      "nilai 52 muncul 1 kali\n",
      "nilai 95 muncul 3 kali\n",
      "nilai 76 muncul 2 kali\n",
      "nilai 78 muncul 6 kali\n",
      "nilai 61 muncul 1 kali\n",
      "nilai 7 muncul 3 kali\n",
      "nilai 84 muncul 1 kali\n",
      "nilai 35 muncul 1 kali\n",
      "nilai 67 muncul 1 kali\n",
      "nilai 38 muncul 3 kali\n",
      "nilai 71 muncul 3 kali\n",
      "nilai 91 muncul 3 kali\n",
      "nilai 28 muncul 3 kali\n",
      "nilai 86 muncul 1 kali\n",
      "nilai 6 muncul 1 kali\n",
      "nilai 73 muncul 2 kali\n",
      "nilai 22 muncul 3 kali\n",
      "nilai 99 muncul 1 kali\n",
      "nilai 62 muncul 1 kali\n",
      "nilai 20 muncul 2 kali\n",
      "nilai 63 muncul 1 kali\n",
      "nilai 32 muncul 1 kali\n",
      "nilai 33 muncul 1 kali\n",
      "nilai 4 muncul 1 kali\n",
      "========================\n",
      "Modus pada data ini adalah [21]\n"
     ]
    }
   ],
   "source": [
    "frequensi = {}\n",
    "\n",
    "for t in nilaiTugas:\n",
    "    if t not in frequensi:\n",
    "        frequensi[t] = 0\n",
    "    frequensi[t] = frequensi[t] + 1\n",
    "\n",
    "#Menampilkan\n",
    "for k,v in frequensi.items():\n",
    "    print(\"nilai\", k, \"muncul\", v, \"kali\")\n",
    "\n",
    "#Mencari frequensi yang paling banyak\n",
    "maks_kemunculan = 0\n",
    "\n",
    "for nilai in frequensi:\n",
    "    if frequensi[nilai] > maks_kemunculan:\n",
    "        maks_kemunculan = frequensi[nilai]\n",
    "\n",
    "#Mencari nilai yang memiliki frequensi terbanyak    \n",
    "modus = []\n",
    "for nilai in frequensi:\n",
    "    if frequensi[nilai] == maks_kemunculan:\n",
    "        modus.append(nilai)\n",
    "        \n",
    "print(\"========================\")    \n",
    "print(\"Modus pada data ini adalah \" + str(modus))"
   ]
  },
  {
   "cell_type": "code",
   "execution_count": null,
   "metadata": {},
   "outputs": [],
   "source": []
  }
 ],
 "metadata": {
  "kernelspec": {
   "display_name": "Python 3",
   "language": "python",
   "name": "python3"
  },
  "language_info": {
   "codemirror_mode": {
    "name": "ipython",
    "version": 3
   },
   "file_extension": ".py",
   "mimetype": "text/x-python",
   "name": "python",
   "nbconvert_exporter": "python",
   "pygments_lexer": "ipython3",
   "version": "3.7.0"
  }
 },
 "nbformat": 4,
 "nbformat_minor": 2
}
