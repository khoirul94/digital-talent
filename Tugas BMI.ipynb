{
 "cells": [
  {
   "cell_type": "markdown",
   "metadata": {},
   "source": [
    "# Latihan 1"
   ]
  },
  {
   "cell_type": "markdown",
   "metadata": {},
   "source": [
    "Body Mass Index (BMI) menentukan sebuah keidealan berat badan terhadap tinggi badan.\n",
    "<br>\n",
    "Berikut adalah formula dari BMI : BMI = weight (kg) ÷ height^2 (m^2)\n",
    "<br><br>\n",
    "Buatlah sebuah program yang memiliki dua variabel berat badan dengan satuan KG, dan tinggi badan dengan satuan CM, kemudian keluaran dari program adalah Kategori BMI"
   ]
  },
  {
   "cell_type": "markdown",
   "metadata": {},
   "source": [
    "# Algoritma"
   ]
  },
  {
   "cell_type": "markdown",
   "metadata": {},
   "source": [
    "1. Start <br>\n",
    "2. Masukan berat badan B (kg) <br>\n",
    "3. Masukan tinggi badan T (cm) <br>\n",
    "4. Hitung BMI = B/(T**2) <br>\n",
    "5. Kondisi <br>\n",
    "6. Print kategori BMI <br>\n",
    "7. Selesai"
   ]
  },
  {
   "cell_type": "code",
   "execution_count": 3,
   "metadata": {},
   "outputs": [
    {
     "name": "stdout",
     "output_type": "stream",
     "text": [
      "Berat badan (kg): 87\n",
      "Tinggi badan (cm): 173\n",
      "Your Body Mass Index is: 29\n",
      "Overweight\n",
      "\n",
      "Please press enter to exit.\n"
     ]
    },
    {
     "data": {
      "text/plain": [
       "''"
      ]
     },
     "execution_count": 3,
     "metadata": {},
     "output_type": "execute_result"
    }
   ],
   "source": [
    "#Definisikan konstanta\n",
    "meter = 100\n",
    "\n",
    "#baca inputan user\n",
    "berat = float(input(\"Berat badan (kg): \"))\n",
    "tinggi = float(input(\"Tinggi badan (cm): \"))\n",
    "\n",
    "#konversi meter ke centi meter\n",
    "temp = tinggi / meter\n",
    "\n",
    "#kalkulasikan pada BMI\n",
    "BMI = berat / (temp*temp)\n",
    "\n",
    "#kondisi\n",
    "if (BMI < 15) :\n",
    "    print(\"Your Body Mass Index is:\",int(BMI))\n",
    "    print(\"Very severely underweight\")\n",
    "\n",
    "elif (BMI >= 15 and BMI < 16):\n",
    "    print(\"Your Body Mass Index is:\",int(BMI))\n",
    "    print(\"Severely underweight\")\n",
    "    \n",
    "elif (BMI >= 16 and BMI < 18.5):\n",
    "    print(\"Your Body Mass Index is:\",int(BMI))\n",
    "    print(\"Underweight \")\n",
    "\n",
    "elif (BMI >= 18.5 and BMI < 25):\n",
    "    print(\"Your Body Mass Index is:\",int(BMI))\n",
    "    print(\"Normal (healthy weight)\")\n",
    "\n",
    "elif (BMI >= 25 and BMI < 30):\n",
    "    print(\"Your Body Mass Index is:\",int(BMI))\n",
    "    print(\"Overweight\")\n",
    "    \n",
    "elif (BMI >= 30 and BMI < 35):\n",
    "    print(\"Your Body Mass Index is:\",int(BMI))\n",
    "    print(\"Moderately obese\")\n",
    "\n",
    "elif (BMI >= 35 and BMI < 40):\n",
    "    print(\"Your Body Mass Index is:\",int(BMI))\n",
    "    print(\"Severely obese\")\n",
    "\n",
    "elif (BMI >= 40):\n",
    "    print(\"Your Body Mass Index is:\",int(BMI))\n",
    "    print(\"Very severely obese\")\n",
    "\n",
    "else:\n",
    "    print(\"There is an error with your input\")\n",
    "\n",
    "input(\"\\nPlease press enter to exit.\")"
   ]
  },
  {
   "cell_type": "code",
   "execution_count": null,
   "metadata": {},
   "outputs": [],
   "source": []
  }
 ],
 "metadata": {
  "kernelspec": {
   "display_name": "Python 3",
   "language": "python",
   "name": "python3"
  },
  "language_info": {
   "codemirror_mode": {
    "name": "ipython",
    "version": 3
   },
   "file_extension": ".py",
   "mimetype": "text/x-python",
   "name": "python",
   "nbconvert_exporter": "python",
   "pygments_lexer": "ipython3",
   "version": "3.7.0"
  }
 },
 "nbformat": 4,
 "nbformat_minor": 2
}
